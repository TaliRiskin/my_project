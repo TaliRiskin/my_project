{
 "cells": [
  {
   "cell_type": "markdown",
   "metadata": {},
   "source": [
    "# Identify:\n",
    "\n",
    "Please fill-in your ID in the following cell, **only id numbers, no names!**\n"
   ]
  },
  {
   "cell_type": "code",
   "execution_count": 1,
   "metadata": {},
   "outputs": [],
   "source": [
    "id1 = \"208133538\"\n",
    "id2 = \"319005898\""
   ]
  },
  {
   "cell_type": "code",
   "execution_count": 3,
   "metadata": {},
   "outputs": [],
   "source": [
    "df = pd.DataFrame([id1])"
   ]
  },
  {
   "cell_type": "markdown",
   "metadata": {},
   "source": [
    "Uncomment in case two students are doing the assignment together:"
   ]
  },
  {
   "cell_type": "code",
   "execution_count": 4,
   "metadata": {},
   "outputs": [],
   "source": [
    "#df = pd.DataFrame([id1,id2])"
   ]
  },
  {
   "cell_type": "code",
   "execution_count": 5,
   "metadata": {},
   "outputs": [],
   "source": [
    "df.to_clipboard(index=False,header=False)"
   ]
  },
  {
   "cell_type": "markdown",
   "metadata": {},
   "source": [
    "Please fill your names here:"
   ]
  },
  {
   "cell_type": "markdown",
   "metadata": {},
   "source": [
    "Tali Riskin\n",
    "Noam Ifargan"
   ]
  },
  {
   "cell_type": "markdown",
   "metadata": {},
   "source": [
    "---"
   ]
  },
  {
   "cell_type": "markdown",
   "metadata": {},
   "source": [
    "----"
   ]
  },
  {
   "cell_type": "markdown",
   "metadata": {},
   "source": [
    "# Write your answers here\n",
    "\n",
    "add as much lines of code and markdown as you need for each answer"
   ]
  },
  {
   "cell_type": "code",
   "execution_count": 1,
   "metadata": {},
   "outputs": [],
   "source": [
    "import numpy as np\n",
    "import pandas as pd\n",
    "from datetime import date"
   ]
  },
  {
   "cell_type": "code",
   "execution_count": 2,
   "metadata": {},
   "outputs": [],
   "source": [
    "url='https://raw.githubusercontent.com/owid/covid-19-data/master/public/data/vaccinations/vaccinations.csv'\n",
    "covid_df = pd.read_csv(url)"
   ]
  },
  {
   "cell_type": "markdown",
   "metadata": {},
   "source": [
    "# Q1 "
   ]
  },
  {
   "cell_type": "code",
   "execution_count": 3,
   "metadata": {},
   "outputs": [
    {
     "name": "stdout",
     "output_type": "stream",
     "text": [
      "The number of rows in my month: 6770\n"
     ]
    }
   ],
   "source": [
    "covid_df['date'] = pd.to_datetime(covid_df.date)\n",
    "july=(covid_df['date'].dt.month_name()=='July')\n",
    "mymonth=covid_df[july].copy()\n",
    "a,b=mymonth.shape\n",
    "print(\"The number of rows in my month:\",a)"
   ]
  },
  {
   "cell_type": "markdown",
   "metadata": {},
   "source": [
    " # Q2"
   ]
  },
  {
   "cell_type": "code",
   "execution_count": 4,
   "metadata": {},
   "outputs": [
    {
     "data": {
      "text/plain": [
       "daily_vaccinations                  1\n",
       "people_vaccinated_per_hundred    3050\n",
       "dtype: int64"
      ]
     },
     "execution_count": 4,
     "metadata": {},
     "output_type": "execute_result"
    }
   ],
   "source": [
    "mymonth[['daily_vaccinations','people_vaccinated_per_hundred']].isnull().sum()"
   ]
  },
  {
   "cell_type": "code",
   "execution_count": 5,
   "metadata": {},
   "outputs": [],
   "source": [
    "mymonth['daily_vaccinations'].fillna(0, inplace = True)"
   ]
  },
  {
   "cell_type": "code",
   "execution_count": 6,
   "metadata": {},
   "outputs": [
    {
     "data": {
      "text/html": [
       "<div>\n",
       "<style scoped>\n",
       "    .dataframe tbody tr th:only-of-type {\n",
       "        vertical-align: middle;\n",
       "    }\n",
       "\n",
       "    .dataframe tbody tr th {\n",
       "        vertical-align: top;\n",
       "    }\n",
       "\n",
       "    .dataframe thead th {\n",
       "        text-align: right;\n",
       "    }\n",
       "</style>\n",
       "<table border=\"1\" class=\"dataframe\">\n",
       "  <thead>\n",
       "    <tr style=\"text-align: right;\">\n",
       "      <th></th>\n",
       "      <th>location</th>\n",
       "      <th>iso_code</th>\n",
       "      <th>date</th>\n",
       "      <th>total_vaccinations</th>\n",
       "      <th>people_vaccinated</th>\n",
       "      <th>people_fully_vaccinated</th>\n",
       "      <th>total_boosters</th>\n",
       "      <th>daily_vaccinations_raw</th>\n",
       "      <th>daily_vaccinations</th>\n",
       "      <th>total_vaccinations_per_hundred</th>\n",
       "      <th>people_vaccinated_per_hundred</th>\n",
       "      <th>people_fully_vaccinated_per_hundred</th>\n",
       "      <th>total_boosters_per_hundred</th>\n",
       "      <th>daily_vaccinations_per_million</th>\n",
       "      <th>new_people_vaccinated_per_hundred</th>\n",
       "    </tr>\n",
       "  </thead>\n",
       "  <tbody>\n",
       "    <tr>\n",
       "      <th>129</th>\n",
       "      <td>Afghanistan</td>\n",
       "      <td>AFG</td>\n",
       "      <td>2021-07-01</td>\n",
       "      <td>NaN</td>\n",
       "      <td>NaN</td>\n",
       "      <td>NaN</td>\n",
       "      <td>NaN</td>\n",
       "      <td>NaN</td>\n",
       "      <td>14115.0</td>\n",
       "      <td>NaN</td>\n",
       "      <td>NaN</td>\n",
       "      <td>NaN</td>\n",
       "      <td>NaN</td>\n",
       "      <td>363.0</td>\n",
       "      <td>1.87</td>\n",
       "    </tr>\n",
       "    <tr>\n",
       "      <th>130</th>\n",
       "      <td>Afghanistan</td>\n",
       "      <td>AFG</td>\n",
       "      <td>2021-07-02</td>\n",
       "      <td>NaN</td>\n",
       "      <td>NaN</td>\n",
       "      <td>NaN</td>\n",
       "      <td>NaN</td>\n",
       "      <td>NaN</td>\n",
       "      <td>12944.0</td>\n",
       "      <td>NaN</td>\n",
       "      <td>NaN</td>\n",
       "      <td>NaN</td>\n",
       "      <td>NaN</td>\n",
       "      <td>333.0</td>\n",
       "      <td>1.87</td>\n",
       "    </tr>\n",
       "    <tr>\n",
       "      <th>131</th>\n",
       "      <td>Afghanistan</td>\n",
       "      <td>AFG</td>\n",
       "      <td>2021-07-03</td>\n",
       "      <td>NaN</td>\n",
       "      <td>NaN</td>\n",
       "      <td>NaN</td>\n",
       "      <td>NaN</td>\n",
       "      <td>NaN</td>\n",
       "      <td>11773.0</td>\n",
       "      <td>NaN</td>\n",
       "      <td>NaN</td>\n",
       "      <td>NaN</td>\n",
       "      <td>NaN</td>\n",
       "      <td>302.0</td>\n",
       "      <td>1.87</td>\n",
       "    </tr>\n",
       "    <tr>\n",
       "      <th>132</th>\n",
       "      <td>Afghanistan</td>\n",
       "      <td>AFG</td>\n",
       "      <td>2021-07-04</td>\n",
       "      <td>NaN</td>\n",
       "      <td>NaN</td>\n",
       "      <td>NaN</td>\n",
       "      <td>NaN</td>\n",
       "      <td>NaN</td>\n",
       "      <td>10602.0</td>\n",
       "      <td>NaN</td>\n",
       "      <td>NaN</td>\n",
       "      <td>NaN</td>\n",
       "      <td>NaN</td>\n",
       "      <td>272.0</td>\n",
       "      <td>1.87</td>\n",
       "    </tr>\n",
       "    <tr>\n",
       "      <th>133</th>\n",
       "      <td>Afghanistan</td>\n",
       "      <td>AFG</td>\n",
       "      <td>2021-07-05</td>\n",
       "      <td>915671.0</td>\n",
       "      <td>726349.0</td>\n",
       "      <td>189322.0</td>\n",
       "      <td>NaN</td>\n",
       "      <td>NaN</td>\n",
       "      <td>8989.0</td>\n",
       "      <td>2.35</td>\n",
       "      <td>1.87</td>\n",
       "      <td>0.49</td>\n",
       "      <td>NaN</td>\n",
       "      <td>231.0</td>\n",
       "      <td>1.87</td>\n",
       "    </tr>\n",
       "    <tr>\n",
       "      <th>...</th>\n",
       "      <td>...</td>\n",
       "      <td>...</td>\n",
       "      <td>...</td>\n",
       "      <td>...</td>\n",
       "      <td>...</td>\n",
       "      <td>...</td>\n",
       "      <td>...</td>\n",
       "      <td>...</td>\n",
       "      <td>...</td>\n",
       "      <td>...</td>\n",
       "      <td>...</td>\n",
       "      <td>...</td>\n",
       "      <td>...</td>\n",
       "      <td>...</td>\n",
       "      <td>...</td>\n",
       "    </tr>\n",
       "    <tr>\n",
       "      <th>40313</th>\n",
       "      <td>Zimbabwe</td>\n",
       "      <td>ZWE</td>\n",
       "      <td>2021-07-27</td>\n",
       "      <td>2275145.0</td>\n",
       "      <td>1561994.0</td>\n",
       "      <td>713151.0</td>\n",
       "      <td>NaN</td>\n",
       "      <td>96727.0</td>\n",
       "      <td>54014.0</td>\n",
       "      <td>15.31</td>\n",
       "      <td>10.51</td>\n",
       "      <td>4.80</td>\n",
       "      <td>NaN</td>\n",
       "      <td>3634.0</td>\n",
       "      <td>10.51</td>\n",
       "    </tr>\n",
       "    <tr>\n",
       "      <th>40314</th>\n",
       "      <td>Zimbabwe</td>\n",
       "      <td>ZWE</td>\n",
       "      <td>2021-07-28</td>\n",
       "      <td>2323763.0</td>\n",
       "      <td>1593365.0</td>\n",
       "      <td>730398.0</td>\n",
       "      <td>NaN</td>\n",
       "      <td>48618.0</td>\n",
       "      <td>53512.0</td>\n",
       "      <td>15.63</td>\n",
       "      <td>10.72</td>\n",
       "      <td>4.91</td>\n",
       "      <td>NaN</td>\n",
       "      <td>3600.0</td>\n",
       "      <td>10.72</td>\n",
       "    </tr>\n",
       "    <tr>\n",
       "      <th>40315</th>\n",
       "      <td>Zimbabwe</td>\n",
       "      <td>ZWE</td>\n",
       "      <td>2021-07-29</td>\n",
       "      <td>2375090.0</td>\n",
       "      <td>1623583.0</td>\n",
       "      <td>751507.0</td>\n",
       "      <td>NaN</td>\n",
       "      <td>51327.0</td>\n",
       "      <td>51183.0</td>\n",
       "      <td>15.98</td>\n",
       "      <td>10.92</td>\n",
       "      <td>5.06</td>\n",
       "      <td>NaN</td>\n",
       "      <td>3444.0</td>\n",
       "      <td>10.92</td>\n",
       "    </tr>\n",
       "    <tr>\n",
       "      <th>40316</th>\n",
       "      <td>Zimbabwe</td>\n",
       "      <td>ZWE</td>\n",
       "      <td>2021-07-30</td>\n",
       "      <td>2413238.0</td>\n",
       "      <td>1645308.0</td>\n",
       "      <td>767930.0</td>\n",
       "      <td>NaN</td>\n",
       "      <td>38148.0</td>\n",
       "      <td>48781.0</td>\n",
       "      <td>16.24</td>\n",
       "      <td>11.07</td>\n",
       "      <td>5.17</td>\n",
       "      <td>NaN</td>\n",
       "      <td>3282.0</td>\n",
       "      <td>11.07</td>\n",
       "    </tr>\n",
       "    <tr>\n",
       "      <th>40317</th>\n",
       "      <td>Zimbabwe</td>\n",
       "      <td>ZWE</td>\n",
       "      <td>2021-07-31</td>\n",
       "      <td>2433070.0</td>\n",
       "      <td>1653821.0</td>\n",
       "      <td>779249.0</td>\n",
       "      <td>NaN</td>\n",
       "      <td>19832.0</td>\n",
       "      <td>45242.0</td>\n",
       "      <td>16.37</td>\n",
       "      <td>11.13</td>\n",
       "      <td>5.24</td>\n",
       "      <td>NaN</td>\n",
       "      <td>3044.0</td>\n",
       "      <td>11.13</td>\n",
       "    </tr>\n",
       "  </tbody>\n",
       "</table>\n",
       "<p>6770 rows × 15 columns</p>\n",
       "</div>"
      ],
      "text/plain": [
       "          location iso_code       date  total_vaccinations  people_vaccinated  \\\n",
       "129    Afghanistan      AFG 2021-07-01                 NaN                NaN   \n",
       "130    Afghanistan      AFG 2021-07-02                 NaN                NaN   \n",
       "131    Afghanistan      AFG 2021-07-03                 NaN                NaN   \n",
       "132    Afghanistan      AFG 2021-07-04                 NaN                NaN   \n",
       "133    Afghanistan      AFG 2021-07-05            915671.0           726349.0   \n",
       "...            ...      ...        ...                 ...                ...   \n",
       "40313     Zimbabwe      ZWE 2021-07-27           2275145.0          1561994.0   \n",
       "40314     Zimbabwe      ZWE 2021-07-28           2323763.0          1593365.0   \n",
       "40315     Zimbabwe      ZWE 2021-07-29           2375090.0          1623583.0   \n",
       "40316     Zimbabwe      ZWE 2021-07-30           2413238.0          1645308.0   \n",
       "40317     Zimbabwe      ZWE 2021-07-31           2433070.0          1653821.0   \n",
       "\n",
       "       people_fully_vaccinated  total_boosters  daily_vaccinations_raw  \\\n",
       "129                        NaN             NaN                     NaN   \n",
       "130                        NaN             NaN                     NaN   \n",
       "131                        NaN             NaN                     NaN   \n",
       "132                        NaN             NaN                     NaN   \n",
       "133                   189322.0             NaN                     NaN   \n",
       "...                        ...             ...                     ...   \n",
       "40313                 713151.0             NaN                 96727.0   \n",
       "40314                 730398.0             NaN                 48618.0   \n",
       "40315                 751507.0             NaN                 51327.0   \n",
       "40316                 767930.0             NaN                 38148.0   \n",
       "40317                 779249.0             NaN                 19832.0   \n",
       "\n",
       "       daily_vaccinations  total_vaccinations_per_hundred  \\\n",
       "129               14115.0                             NaN   \n",
       "130               12944.0                             NaN   \n",
       "131               11773.0                             NaN   \n",
       "132               10602.0                             NaN   \n",
       "133                8989.0                            2.35   \n",
       "...                   ...                             ...   \n",
       "40313             54014.0                           15.31   \n",
       "40314             53512.0                           15.63   \n",
       "40315             51183.0                           15.98   \n",
       "40316             48781.0                           16.24   \n",
       "40317             45242.0                           16.37   \n",
       "\n",
       "       people_vaccinated_per_hundred  people_fully_vaccinated_per_hundred  \\\n",
       "129                              NaN                                  NaN   \n",
       "130                              NaN                                  NaN   \n",
       "131                              NaN                                  NaN   \n",
       "132                              NaN                                  NaN   \n",
       "133                             1.87                                 0.49   \n",
       "...                              ...                                  ...   \n",
       "40313                          10.51                                 4.80   \n",
       "40314                          10.72                                 4.91   \n",
       "40315                          10.92                                 5.06   \n",
       "40316                          11.07                                 5.17   \n",
       "40317                          11.13                                 5.24   \n",
       "\n",
       "       total_boosters_per_hundred  daily_vaccinations_per_million  \\\n",
       "129                           NaN                           363.0   \n",
       "130                           NaN                           333.0   \n",
       "131                           NaN                           302.0   \n",
       "132                           NaN                           272.0   \n",
       "133                           NaN                           231.0   \n",
       "...                           ...                             ...   \n",
       "40313                         NaN                          3634.0   \n",
       "40314                         NaN                          3600.0   \n",
       "40315                         NaN                          3444.0   \n",
       "40316                         NaN                          3282.0   \n",
       "40317                         NaN                          3044.0   \n",
       "\n",
       "       new_people_vaccinated_per_hundred  \n",
       "129                                 1.87  \n",
       "130                                 1.87  \n",
       "131                                 1.87  \n",
       "132                                 1.87  \n",
       "133                                 1.87  \n",
       "...                                  ...  \n",
       "40313                              10.51  \n",
       "40314                              10.72  \n",
       "40315                              10.92  \n",
       "40316                              11.07  \n",
       "40317                              11.13  \n",
       "\n",
       "[6770 rows x 15 columns]"
      ]
     },
     "execution_count": 6,
     "metadata": {},
     "output_type": "execute_result"
    }
   ],
   "source": [
    "mymonth['new_people_vaccinated_per_hundred']= mymonth.groupby('location')[['people_vaccinated_per_hundred']].apply(lambda x:x.fillna(method='ffill')) \n",
    "mymonth['new_people_vaccinated_per_hundred']= mymonth.groupby('location')[['people_vaccinated_per_hundred']].apply(lambda x:x.fillna(method='bfill'))\n",
    "mymonth"
   ]
  },
  {
   "cell_type": "markdown",
   "metadata": {},
   "source": [
    " \n",
    "החלטנו לשים אפסים מכיוון שלא ניתן לדעת למה באותו תאריך לא מילאו daily_vaccinations במקומות החסרים של\n",
    " \n",
    " החלטנו למלא את הערכים שהיו לפני או אחרי בהתאמה מכיוון שההעמודה הזאת זה חיסונים פר 100 אנשים ולכן עד אותם מאה אנשים יהיה את אותה כמות כמו שהיה יום לפני או יום אחרי עד שיש מספר חדש כנל לגבי מההפך לתת את אותו מספר שבא אחרי people_vaccinated_per_hundred במקומות החסר new_per_hundred פתחנו עמודה חדשה שנקראת\n",
    "על מנת שיהיה ניתן לראות את השינוי מהעמודה המקורית להעמודה החדשה שפתחנו (השינוי יהיה בעמודה החדשה) new_people_vaccinated_per_hundred הוספנו עמודה של  "
   ]
  },
  {
   "cell_type": "markdown",
   "metadata": {
    "tags": []
   },
   "source": [
    "# Q3"
   ]
  },
  {
   "cell_type": "code",
   "execution_count": 27,
   "metadata": {},
   "outputs": [
    {
     "data": {
      "text/plain": [
       "location              Antigua and Barbuda\n",
       "date                  2021-07-20 00:00:00\n",
       "daily_vaccinations                  107.0\n",
       "Name: 1460, dtype: object"
      ]
     },
     "execution_count": 27,
     "metadata": {},
     "output_type": "execute_result"
    }
   ],
   "source": [
    "a=mymonth.groupby('location')['daily_vaccinations'].max()\n",
    "a.argmax()\n",
    "mymonth[['location','date','daily_vaccinations']].iloc[222]"
   ]
  },
  {
   "cell_type": "markdown",
   "metadata": {},
   "source": [
    "Q4"
   ]
  },
  {
   "cell_type": "code",
   "execution_count": 7,
   "metadata": {},
   "outputs": [
    {
     "name": "stdout",
     "output_type": "stream",
     "text": [
      "daily_vaccinations    639398.711669\n",
      "dtype: float64\n",
      "daily_vaccinations    9478.5\n",
      "dtype: float64\n"
     ]
    }
   ],
   "source": [
    "print(mymonth[['daily_vaccinations']].mean())\n",
    "print(mymonth[['daily_vaccinations']].median())"
   ]
  },
  {
   "cell_type": "markdown",
   "metadata": {},
   "source": [
    "הממוצע יותר גבוהה מהחציון מכיוון שבממוצע הערכים הגבוהים (איפה שהיה הכי הרבה חיסונים ) משפיע יותר מאשר בחציון"
   ]
  },
  {
   "cell_type": "markdown",
   "metadata": {},
   "source": [
    "# Q5"
   ]
  },
  {
   "cell_type": "code",
   "execution_count": 8,
   "metadata": {},
   "outputs": [
    {
     "name": "stdout",
     "output_type": "stream",
     "text": [
      "The average of people_vaccinated_per_hundred    65.302857\n",
      "dtype: float64\n"
     ]
    }
   ],
   "source": [
    "israelmonth= mymonth.loc[mymonth['location']=='Israel',['people_vaccinated_per_hundred']]\n",
    "print(\"The average of\", israelmonth.iloc[0:7].mean())"
   ]
  },
  {
   "cell_type": "markdown",
   "metadata": {},
   "source": [
    "# Q6"
   ]
  },
  {
   "cell_type": "code",
   "execution_count": 9,
   "metadata": {},
   "outputs": [
    {
     "data": {
      "text/html": [
       "<div>\n",
       "<style scoped>\n",
       "    .dataframe tbody tr th:only-of-type {\n",
       "        vertical-align: middle;\n",
       "    }\n",
       "\n",
       "    .dataframe tbody tr th {\n",
       "        vertical-align: top;\n",
       "    }\n",
       "\n",
       "    .dataframe thead th {\n",
       "        text-align: right;\n",
       "    }\n",
       "</style>\n",
       "<table border=\"1\" class=\"dataframe\">\n",
       "  <thead>\n",
       "    <tr style=\"text-align: right;\">\n",
       "      <th></th>\n",
       "      <th>people_vaccinated_per_hundred</th>\n",
       "    </tr>\n",
       "    <tr>\n",
       "      <th>location</th>\n",
       "      <th></th>\n",
       "    </tr>\n",
       "  </thead>\n",
       "  <tbody>\n",
       "    <tr>\n",
       "      <th>Gibraltar</th>\n",
       "      <td>116.77</td>\n",
       "    </tr>\n",
       "    <tr>\n",
       "      <th>Pitcairn</th>\n",
       "      <td>100.00</td>\n",
       "    </tr>\n",
       "    <tr>\n",
       "      <th>Malta</th>\n",
       "      <td>90.52</td>\n",
       "    </tr>\n",
       "  </tbody>\n",
       "</table>\n",
       "</div>"
      ],
      "text/plain": [
       "           people_vaccinated_per_hundred\n",
       "location                                \n",
       "Gibraltar                         116.77\n",
       "Pitcairn                          100.00\n",
       "Malta                              90.52"
      ]
     },
     "execution_count": 9,
     "metadata": {},
     "output_type": "execute_result"
    }
   ],
   "source": [
    "three= mymonth.fillna(0).groupby('location')[['people_vaccinated_per_hundred']].max().copy()\n",
    "three.sort_values('people_vaccinated_per_hundred', ascending=False).head(3)"
   ]
  },
  {
   "cell_type": "markdown",
   "metadata": {},
   "source": [
    "---\n",
    "# GOOD LUCK !!!!\n",
    "---"
   ]
  },
  {
   "cell_type": "code",
   "execution_count": null,
   "metadata": {},
   "outputs": [],
   "source": [
    "# do not type below this line"
   ]
  }
 ],
 "metadata": {
  "kernelspec": {
   "display_name": "Python 3 (ipykernel)",
   "language": "python",
   "name": "python3"
  },
  "language_info": {
   "codemirror_mode": {
    "name": "ipython",
    "version": 3
   },
   "file_extension": ".py",
   "mimetype": "text/x-python",
   "name": "python",
   "nbconvert_exporter": "python",
   "pygments_lexer": "ipython3",
   "version": "3.9.6"
  }
 },
 "nbformat": 4,
 "nbformat_minor": 4
}
