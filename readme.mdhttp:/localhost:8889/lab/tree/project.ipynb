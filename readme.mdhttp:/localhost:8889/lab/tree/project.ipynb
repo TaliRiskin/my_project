# my first git
[![Binder](https://mybinder.org/badge_logo.svg)](https://mybinder.org/v2/gh/TaliRiskin/my_project/HEAD)
http://localhost:8889/lab/tree/project.ipynb
        
